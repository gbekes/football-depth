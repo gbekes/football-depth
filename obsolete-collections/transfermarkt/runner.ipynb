{
 "cells": [
  {
   "cell_type": "code",
   "execution_count": 2,
   "id": "encouraging-compatibility",
   "metadata": {},
   "outputs": [],
   "source": [
    "import aswan\n",
    "\n",
    "from src.setup_starter_urls import main, comp_links\n",
    "\n",
    "import src.t2_tables as t2\n",
    "import src.handlers as h"
   ]
  },
  {
   "cell_type": "code",
   "execution_count": null,
   "id": "21a1d523-e662-48c1-9238-03a56064337f",
   "metadata": {},
   "outputs": [],
   "source": [
    "aswan_project = aswan.Project(\"transfermarkt-2020\")"
   ]
  },
  {
   "cell_type": "code",
   "execution_count": null,
   "id": "a03fec58-da30-45f5-a272-f1ae45ea2b8f",
   "metadata": {},
   "outputs": [],
   "source": [
    "aswan_project.run({h.TmCompSeasonFinder: comp_links})"
   ]
  },
  {
   "cell_type": "code",
   "execution_count": null,
   "id": "demanding-covering",
   "metadata": {},
   "outputs": [],
   "source": [
    "aswan_project.run(main())"
   ]
  },
  {
   "cell_type": "code",
   "execution_count": null,
   "id": "2d4442cc-9834-4fbd-a8e6-714435b05c37",
   "metadata": {},
   "outputs": [],
   "source": [
    "aswan_project.run(update())"
   ]
  }
 ],
 "metadata": {
  "kernelspec": {
   "display_name": "Python 3 (ipykernel)",
   "language": "python",
   "name": "python3"
  },
  "language_info": {
   "codemirror_mode": {
    "name": "ipython",
    "version": 3
   },
   "file_extension": ".py",
   "mimetype": "text/x-python",
   "name": "python",
   "nbconvert_exporter": "python",
   "pygments_lexer": "ipython3",
   "version": "3.10.12"
  }
 },
 "nbformat": 4,
 "nbformat_minor": 5
}
