{
 "cells": [
  {
   "cell_type": "code",
   "execution_count": 1,
   "id": "67d8deb9",
   "metadata": {},
   "outputs": [],
   "source": [
    "import json\n",
    "import random\n",
    "import re\n",
    "\n",
    "\n",
    "from itertools import islice\n",
    "\n",
    "import datazimmer as dz\n",
    "import pandas as pd\n",
    "from parquetranger import TableRepo\n",
    "from tqdm.notebook import tqdm\n",
    "from unidecode import unidecode\n",
    "\n",
    "from src.whoscored_parsing.extractors import *\n",
    "from src.whoscored_parsing.t2_integrators import *\n",
    "from src.whoscored_collect import *\n",
    "from src.raw_tables import event_table"
   ]
  },
  {
   "cell_type": "code",
   "execution_count": 2,
   "id": "393c7b2f",
   "metadata": {},
   "outputs": [
    {
     "name": "stderr",
     "output_type": "stream",
     "text": [
      "99it [00:00, 989.48it/s]\n"
     ]
    }
   ],
   "source": [
    "pcevs = list(islice(tqdm(project.depot.get_handler_events(GetMatchDetails)), 100))"
   ]
  },
  {
   "cell_type": "code",
   "execution_count": null,
   "id": "f6b4f10c-080b-4ef7-ad58-09da4b7c7155",
   "metadata": {},
   "outputs": [],
   "source": [
    "misses = []\n",
    "all_form_uses = []\n",
    "all_formations = []\n",
    "all_events = []\n",
    "att_dfs = [[] for _ in table_extractor_pairs]\n",
    "for pind, pcev in tqdm([*enumerate(random.sample(pcevs, len(pcevs)))]):\n",
    "    try:\n",
    "        pcev_content = json.loads(pcev.content or \"null\")\n",
    "        if pcev_content is None or pcev_content.get(\"home\") is None:\n",
    "            raise ValueError()\n",
    "    except (json.JSONDecodeError, ValueError):\n",
    "        misses.append(pcev)\n",
    "        continue\n",
    "    url_dic = parse_url(pcev.url)\n",
    "    all_events += get_event_records(pcev_content, url_dic)\n",
    "    rest = {**url_dic, **pcev_content}\n",
    "    form_use_list, forms_list = handle_formations(rest)\n",
    "    all_form_uses += form_use_list\n",
    "    all_formations += forms_list\n",
    "    for (_, extractor, df_formatter), dfl in zip(\n",
    "        table_extractor_pairs, att_dfs\n",
    "    ):\n",
    "        out = extractor.parse(rest)\n",
    "        if isinstance(out, dict):\n",
    "            out = [out]\n",
    "        _df = pd.DataFrame(out)\n",
    "        if extractor.id_key is not None:\n",
    "            if extractor.id_key in _df.columns:\n",
    "                _df = _df.set_index(extractor.id_key)\n",
    "            else:\n",
    "                print(\"no index \", extractor.id_key)\n",
    "                print(pcev.url)\n",
    "                continue\n",
    "        dfl.append(_df.pipe(df_formatter))\n",
    "\n",
    "    if (pind + 1) % 500 == 0:\n",
    "        fix_event_df(all_events).pipe(event_table.extend)\n",
    "        all_events = []\n",
    "\n",
    "fix_event_df(all_events).pipe(event_table.extend)\n",
    "\n",
    "pd.DataFrame(all_form_uses).pipe(formation_use_table.extend)\n",
    "pd.DataFrame(all_formations).drop_duplicates(subset=\"formation_id\").set_index(\n",
    "    \"formation_id\"\n",
    ").pipe(formation_table.replace_records)\n",
    "\n",
    "for (trepo, _, __), dfl in zip(table_extractor_pairs, att_dfs):\n",
    "    _df = pd.concat(dfl)\n",
    "\n",
    "    if _df.index.name is None:\n",
    "        _df.pipe(trepo.extend)\n",
    "    else:\n",
    "        _df.pipe(trepo.replace_records)"
   ]
  }
 ],
 "metadata": {
  "kernelspec": {
   "display_name": "Python 3 (ipykernel)",
   "language": "python",
   "name": "python3"
  },
  "language_info": {
   "codemirror_mode": {
    "name": "ipython",
    "version": 3
   },
   "file_extension": ".py",
   "mimetype": "text/x-python",
   "name": "python",
   "nbconvert_exporter": "python",
   "pygments_lexer": "ipython3",
   "version": "3.10.12"
  }
 },
 "nbformat": 4,
 "nbformat_minor": 5
}
